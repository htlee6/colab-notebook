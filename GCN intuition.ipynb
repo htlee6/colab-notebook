{
  "nbformat": 4,
  "nbformat_minor": 0,
  "metadata": {
    "colab": {
      "name": "Untitled3.ipynb",
      "provenance": [],
      "collapsed_sections": [],
      "authorship_tag": "ABX9TyPh1w6OmqC2vGeSx3LXiFP/",
      "include_colab_link": true
    },
    "kernelspec": {
      "name": "python3",
      "display_name": "Python 3"
    },
    "language_info": {
      "name": "python"
    }
  },
  "cells": [
    {
      "cell_type": "markdown",
      "metadata": {
        "id": "view-in-github",
        "colab_type": "text"
      },
      "source": [
        "<a href=\"https://colab.research.google.com/github/htlee6/colab-notebook/blob/main/GCN%20intuition\" target=\"_parent\"><img src=\"https://colab.research.google.com/assets/colab-badge.svg\" alt=\"Open In Colab\"/></a>"
      ]
    },
    {
      "cell_type": "code",
      "metadata": {
        "id": "f39idFO1buPm"
      },
      "source": [
        "import networkx\n",
        "from networkx import karate_club_graph, to_numpy_array\n",
        "import numpy as np"
      ],
      "execution_count": 9,
      "outputs": []
    },
    {
      "cell_type": "code",
      "metadata": {
        "id": "-UGsaPfXbwDf"
      },
      "source": [
        "g = karate_club_graph()"
      ],
      "execution_count": 10,
      "outputs": []
    },
    {
      "cell_type": "code",
      "metadata": {
        "id": "N82ggpIkcnUl"
      },
      "source": [
        "A = to_numpy_array(g)"
      ],
      "execution_count": 11,
      "outputs": []
    },
    {
      "cell_type": "code",
      "metadata": {
        "id": "XSNOnv5xdNqd"
      },
      "source": [
        "I = np.eye(g.number_of_nodes())"
      ],
      "execution_count": 14,
      "outputs": []
    },
    {
      "cell_type": "code",
      "metadata": {
        "id": "-gpWWahzdRqa"
      },
      "source": [
        "A_hat = A + I"
      ],
      "execution_count": 17,
      "outputs": []
    },
    {
      "cell_type": "code",
      "metadata": {
        "id": "5OzEtTFSdc9h"
      },
      "source": [
        "D_hat = np.array(np.sum(A_hat, axis=0))"
      ],
      "execution_count": 29,
      "outputs": []
    },
    {
      "cell_type": "code",
      "metadata": {
        "id": "blutIA1GeB71"
      },
      "source": [
        "D_hat = np.diag(D_hat)"
      ],
      "execution_count": 31,
      "outputs": []
    },
    {
      "cell_type": "code",
      "metadata": {
        "id": "Nuz4HWy1eRoZ"
      },
      "source": [
        "def gcn_layer(D, A, X, W):\n",
        "  return np.linalg.inv(D) * A @ X @ W"
      ],
      "execution_count": 77,
      "outputs": []
    },
    {
      "cell_type": "code",
      "metadata": {
        "id": "ncTAKYPCeuEG"
      },
      "source": [
        "W1 = np.random.rand(A.shape[1], 4)\n",
        "W2 = np.random.rand(4, 2)"
      ],
      "execution_count": 78,
      "outputs": []
    },
    {
      "cell_type": "code",
      "metadata": {
        "id": "4UJ-t1DnfDld"
      },
      "source": [
        "o1 = gcn_layer(D_hat, A_hat, I, W1)\n",
        "o2 = gcn_layer(D_hat, A_hat, o1, W2)"
      ],
      "execution_count": 79,
      "outputs": []
    },
    {
      "cell_type": "code",
      "metadata": {
        "colab": {
          "base_uri": "https://localhost:8080/"
        },
        "id": "m4BhudORfN_T",
        "outputId": "38c9c0da-242d-4842-d2a7-ad5fdeb85166"
      },
      "source": [
        "o1, o2"
      ],
      "execution_count": 81,
      "outputs": [
        {
          "output_type": "execute_result",
          "data": {
            "text/plain": [
              "(array([[3.14147738e-02, 3.24657986e-02, 6.80665468e-03, 7.42046182e-03],\n",
              "        [3.22023800e-02, 4.80185125e-02, 8.09481779e-02, 7.30228885e-02],\n",
              "        [2.62923138e-02, 8.23491579e-03, 3.76648635e-02, 2.52217980e-02],\n",
              "        [2.39049715e-02, 1.09695514e-01, 7.08261755e-02, 1.27481367e-01],\n",
              "        [2.30096635e-01, 2.07817502e-01, 1.80711163e-01, 2.44153927e-01],\n",
              "        [1.96439013e-01, 1.46957782e-02, 2.06039262e-02, 1.80108523e-01],\n",
              "        [6.96795591e-02, 9.90729125e-02, 8.57946780e-02, 1.24913178e-01],\n",
              "        [4.54436034e-02, 1.38062784e-01, 2.55996426e-02, 5.47427462e-03],\n",
              "        [7.05268647e-02, 1.35936339e-01, 8.83349128e-02, 6.37966450e-02],\n",
              "        [1.48000751e-01, 1.93864318e-01, 2.61345074e-01, 1.62054858e-01],\n",
              "        [8.20468477e-02, 9.52498438e-03, 2.05845145e-01, 1.54497148e-01],\n",
              "        [4.48418013e-01, 4.15185091e-01, 1.54522289e-01, 3.91707141e-01],\n",
              "        [7.85439758e-02, 9.97920548e-02, 1.86328062e-01, 1.65602107e-01],\n",
              "        [7.55943685e-02, 9.46736074e-02, 1.47358204e-01, 9.28078636e-02],\n",
              "        [2.87379522e-01, 2.24553480e-01, 4.50778639e-02, 1.27442094e-01],\n",
              "        [1.44502050e-01, 3.18034125e-03, 1.47327230e-02, 6.51830066e-02],\n",
              "        [3.23226545e-01, 3.39741919e-04, 2.78236463e-03, 4.14419171e-02],\n",
              "        [2.82298920e-01, 1.28946987e-01, 1.98528412e-01, 1.97955348e-01],\n",
              "        [1.27351314e-01, 2.32206385e-02, 2.86675876e-01, 3.32300389e-01],\n",
              "        [1.97802073e-01, 8.03052642e-02, 3.21085847e-03, 2.15754454e-02],\n",
              "        [2.24047626e-01, 3.04752165e-01, 2.14175471e-01, 2.87609857e-01],\n",
              "        [1.41812416e-01, 1.28695889e-01, 1.91166629e-01, 3.24614245e-01],\n",
              "        [1.46609567e-01, 3.12395060e-01, 1.93770897e-01, 1.84746430e-01],\n",
              "        [1.12361384e-01, 2.36204523e-02, 1.28335133e-01, 7.17560444e-02],\n",
              "        [7.95581684e-02, 1.60901050e-01, 2.16478630e-01, 2.20167337e-02],\n",
              "        [5.65867330e-02, 2.31275381e-01, 2.47686127e-01, 9.60062631e-02],\n",
              "        [1.57771174e-02, 2.64466579e-01, 1.22367173e-01, 2.61574477e-02],\n",
              "        [1.90917131e-01, 1.47903153e-02, 5.46174800e-02, 3.73053986e-02],\n",
              "        [4.70863745e-02, 2.39459481e-01, 1.89645531e-01, 1.23243797e-01],\n",
              "        [1.73178732e-01, 1.15605739e-01, 8.20524710e-02, 1.28986906e-01],\n",
              "        [5.64864162e-03, 4.62844381e-03, 6.47854818e-02, 1.70642409e-01],\n",
              "        [1.35144781e-01, 1.49143282e-02, 3.85936167e-02, 1.38703458e-01],\n",
              "        [5.86105444e-02, 5.65486770e-03, 6.38858391e-02, 3.64897181e-02],\n",
              "        [3.53983432e-02, 4.22031987e-02, 9.45154152e-03, 4.89406956e-02]]),\n",
              " array([[0.00158923, 0.00171068],\n",
              "        [0.00561991, 0.01410023],\n",
              "        [0.0015426 , 0.00560155],\n",
              "        [0.01497107, 0.02459383],\n",
              "        [0.05711912, 0.10954134],\n",
              "        [0.0152823 , 0.038491  ],\n",
              "        [0.02101279, 0.03981674],\n",
              "        [0.01934967, 0.01495675],\n",
              "        [0.01929971, 0.02937886],\n",
              "        [0.06555247, 0.1462434 ],\n",
              "        [0.01628342, 0.07905127],\n",
              "        [0.20978892, 0.3090214 ],\n",
              "        [0.04088843, 0.10745137],\n",
              "        [0.01680388, 0.04035295],\n",
              "        [0.07087758, 0.08871202],\n",
              "        [0.01238544, 0.03407427],\n",
              "        [0.01820689, 0.04671981],\n",
              "        [0.05915969, 0.14358218],\n",
              "        [0.04118427, 0.17067614],\n",
              "        [0.02085169, 0.0257588 ],\n",
              "        [0.10018249, 0.17138713],\n",
              "        [0.06124566, 0.14795702],\n",
              "        [0.090437  , 0.1372541 ],\n",
              "        [0.00920364, 0.03486261],\n",
              "        [0.03334446, 0.07154133],\n",
              "        [0.04813546, 0.09123445],\n",
              "        [0.06131496, 0.06592393],\n",
              "        [0.00961063, 0.02889955],\n",
              "        [0.04947558, 0.08055055],\n",
              "        [0.02613339, 0.04761083],\n",
              "        [0.00888545, 0.03204767],\n",
              "        [0.00864366, 0.02361907],\n",
              "        [0.00185902, 0.00801064],\n",
              "        [0.00237146, 0.00323336]]))"
            ]
          },
          "metadata": {},
          "execution_count": 81
        }
      ]
    },
    {
      "cell_type": "code",
      "metadata": {
        "id": "C3TdWKVCflkb"
      },
      "source": [
        "from matplotlib import pyplot as plt"
      ],
      "execution_count": 82,
      "outputs": []
    },
    {
      "cell_type": "code",
      "metadata": {
        "colab": {
          "base_uri": "https://localhost:8080/",
          "height": 282
        },
        "id": "i9pZ4x9_iv78",
        "outputId": "11314343-7cea-472b-82cc-7b50f4fc90fc"
      },
      "source": [
        "plt.scatter(x=o2[:,0], y=o2[:,1])"
      ],
      "execution_count": 85,
      "outputs": [
        {
          "output_type": "execute_result",
          "data": {
            "text/plain": [
              "<matplotlib.collections.PathCollection at 0x7f1545df76d0>"
            ]
          },
          "metadata": {},
          "execution_count": 85
        },
        {
          "output_type": "display_data",
          "data": {
            "image/png": "[encoded data removed]",
            "text/plain": [
              "<Figure size 432x288 with 1 Axes>"
            ]
          },
          "metadata": {
            "needs_background": "light"
          }
        }
      ]
    },
    {
      "cell_type": "code",
      "metadata": {
        "id": "BLtGM5YiiygU"
      },
      "source": [
        ""
      ],
      "execution_count": null,
      "outputs": []
    }
  ]
}
